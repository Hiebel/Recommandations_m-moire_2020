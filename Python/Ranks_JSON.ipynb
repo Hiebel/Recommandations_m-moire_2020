{
 "cells": [
  {
   "cell_type": "code",
   "execution_count": 1,
   "metadata": {},
   "outputs": [
    {
     "name": "stdout",
     "output_type": "stream",
     "text": [
      "22103588\n"
     ]
    }
   ],
   "source": [
    "file = open(\"PageRanks/2020-04-26.allwiki.links.rank\")\n",
    "lignes = file.readlines()\n",
    "file.close()\n",
    "print(len(lignes))"
   ]
  },
  {
   "cell_type": "code",
   "execution_count": 6,
   "metadata": {},
   "outputs": [],
   "source": [
    "import json\n",
    "\n",
    "dic = {}\n",
    "i = 0\n",
    "for l in lignes:\n",
    "    vals = l[:-1].split(\"\\t\")\n",
    "    dic[vals[0]] = vals[1]\n",
    "    \n",
    "save = open(\"PageRanks/ranks.json\", \"w\", encoding=\"utf-8\")\n",
    "save.write(json.dumps(dic, indent=4, ensure_ascii=False))\n",
    "save.close()"
   ]
  },
  {
   "cell_type": "code",
   "execution_count": 7,
   "metadata": {},
   "outputs": [
    {
     "name": "stdout",
     "output_type": "stream",
     "text": [
      "22103588\n"
     ]
    }
   ],
   "source": [
    "print(len(dic))"
   ]
  },
  {
   "cell_type": "code",
   "execution_count": 9,
   "metadata": {},
   "outputs": [],
   "source": [
    "file = open(\"PageRanks/ranks.json\", \"r\", encoding=\"utf-8\")\n",
    "dico = json.load(file)\n",
    "file.close()"
   ]
  },
  {
   "cell_type": "code",
   "execution_count": 10,
   "metadata": {},
   "outputs": [
    {
     "name": "stdout",
     "output_type": "stream",
     "text": [
      "22103588\n"
     ]
    }
   ],
   "source": [
    "print(len(dico))"
   ]
  },
  {
   "cell_type": "code",
   "execution_count": null,
   "metadata": {},
   "outputs": [],
   "source": []
  }
 ],
 "metadata": {
  "kernelspec": {
   "display_name": "Python 3",
   "language": "python",
   "name": "python3"
  },
  "language_info": {
   "codemirror_mode": {
    "name": "ipython",
    "version": 3
   },
   "file_extension": ".py",
   "mimetype": "text/x-python",
   "name": "python",
   "nbconvert_exporter": "python",
   "pygments_lexer": "ipython3",
   "version": "3.7.0"
  }
 },
 "nbformat": 4,
 "nbformat_minor": 2
}
